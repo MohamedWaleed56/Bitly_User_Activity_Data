{
 "cells": [
  {
   "cell_type": "markdown",
   "id": "rational-interface",
   "metadata": {
    "ExecuteTime": {
     "end_time": "2023-03-09T14:42:32.311382Z",
     "start_time": "2023-03-09T14:42:32.294685Z"
    }
   },
   "source": [
    "# Bitly User Activity Data Transformation\n",
    "\n",
    "## objectives:\n",
    "\n",
    "Transform Bitly User Activity Data from json file into a readable dataframe to save it as csv file.\n",
    "\n",
    "## used libraries & packages:\n",
    "\n",
    "* pandas\n",
    "* Numby\n",
    "* Json\n",
    "* datetime\n",
    "* re\n",
    "\n",
    "## Dataset:\n",
    "\n",
    "`usa.gov_click_data_1.json`"
   ]
  },
  {
   "cell_type": "code",
   "execution_count": 1,
   "id": "arbitrary-hybrid",
   "metadata": {
    "ExecuteTime": {
     "end_time": "2023-03-09T14:42:42.503063Z",
     "start_time": "2023-03-09T14:42:39.750326Z"
    }
   },
   "outputs": [],
   "source": [
    "### needed libraries\n",
    "import json\n",
    "import pandas as pd\n",
    "import numpy as np\n",
    "import re"
   ]
  },
  {
   "cell_type": "code",
   "execution_count": 2,
   "id": "former-extreme",
   "metadata": {
    "ExecuteTime": {
     "end_time": "2023-03-09T14:42:42.833106Z",
     "start_time": "2023-03-09T14:42:42.506422Z"
    }
   },
   "outputs": [],
   "source": [
    "### read json file and turn it into data frame\n",
    "df = pd.read_json('usa.gov_click_data.json' , lines = True)"
   ]
  },
  {
   "cell_type": "code",
   "execution_count": 3,
   "id": "accepted-discussion",
   "metadata": {
    "ExecuteTime": {
     "end_time": "2023-03-09T14:42:42.983850Z",
     "start_time": "2023-03-09T14:42:42.838260Z"
    }
   },
   "outputs": [
    {
     "data": {
      "text/html": [
       "<div>\n",
       "<style scoped>\n",
       "    .dataframe tbody tr th:only-of-type {\n",
       "        vertical-align: middle;\n",
       "    }\n",
       "\n",
       "    .dataframe tbody tr th {\n",
       "        vertical-align: top;\n",
       "    }\n",
       "\n",
       "    .dataframe thead th {\n",
       "        text-align: right;\n",
       "    }\n",
       "</style>\n",
       "<table border=\"1\" class=\"dataframe\">\n",
       "  <thead>\n",
       "    <tr style=\"text-align: right;\">\n",
       "      <th></th>\n",
       "      <th>a</th>\n",
       "      <th>c</th>\n",
       "      <th>nk</th>\n",
       "      <th>tz</th>\n",
       "      <th>gr</th>\n",
       "      <th>g</th>\n",
       "      <th>h</th>\n",
       "      <th>l</th>\n",
       "      <th>al</th>\n",
       "      <th>hh</th>\n",
       "      <th>r</th>\n",
       "      <th>u</th>\n",
       "      <th>t</th>\n",
       "      <th>hc</th>\n",
       "      <th>cy</th>\n",
       "      <th>ll</th>\n",
       "    </tr>\n",
       "  </thead>\n",
       "  <tbody>\n",
       "    <tr>\n",
       "      <th>0</th>\n",
       "      <td>Mozilla/5.0 (Windows NT 6.1; WOW64) AppleWebKi...</td>\n",
       "      <td>US</td>\n",
       "      <td>1</td>\n",
       "      <td>America/New_York</td>\n",
       "      <td>MA</td>\n",
       "      <td>A6qOVH</td>\n",
       "      <td>wfLQtf</td>\n",
       "      <td>orofrog</td>\n",
       "      <td>en-US,en;q=0.8</td>\n",
       "      <td>1.usa.gov</td>\n",
       "      <td>http://www.facebook.com/l/7AQEFzjSi/1.usa.gov/...</td>\n",
       "      <td>http://www.ncbi.nlm.nih.gov/pubmed/22415991</td>\n",
       "      <td>1333307030</td>\n",
       "      <td>1333307037</td>\n",
       "      <td>Danvers</td>\n",
       "      <td>[42.576698, -70.954903]</td>\n",
       "    </tr>\n",
       "    <tr>\n",
       "      <th>1</th>\n",
       "      <td>GoogleMaps/RochesterNY</td>\n",
       "      <td>US</td>\n",
       "      <td>0</td>\n",
       "      <td>America/Denver</td>\n",
       "      <td>UT</td>\n",
       "      <td>mwszkS</td>\n",
       "      <td>mwszkS</td>\n",
       "      <td>bitly</td>\n",
       "      <td>NaN</td>\n",
       "      <td>j.mp</td>\n",
       "      <td>http://www.AwareMap.com/</td>\n",
       "      <td>http://www.monroecounty.gov/etc/911/rss.php</td>\n",
       "      <td>1331923249</td>\n",
       "      <td>1308262393</td>\n",
       "      <td>Provo</td>\n",
       "      <td>[40.218102, -111.613297]</td>\n",
       "    </tr>\n",
       "    <tr>\n",
       "      <th>2</th>\n",
       "      <td>Mozilla/4.0 (Windows NT 6.1; MSIE 8.0; Windows...</td>\n",
       "      <td>US</td>\n",
       "      <td>1</td>\n",
       "      <td>America/New_York</td>\n",
       "      <td>DC</td>\n",
       "      <td>xxr3Qb</td>\n",
       "      <td>xxr3Qb</td>\n",
       "      <td>bitly</td>\n",
       "      <td>en-US</td>\n",
       "      <td>1.usa.gov</td>\n",
       "      <td>http://t.co/03elZC4Q</td>\n",
       "      <td>http://boxer.senate.gov/en/press/releases/0316...</td>\n",
       "      <td>1333407030</td>\n",
       "      <td>1333407035</td>\n",
       "      <td>Washington</td>\n",
       "      <td>[38.9007, -77.043098]</td>\n",
       "    </tr>\n",
       "    <tr>\n",
       "      <th>3</th>\n",
       "      <td>Mozilla/5.0 (Macintosh; Intel Mac OS X 10_6_8)...</td>\n",
       "      <td>BR</td>\n",
       "      <td>0</td>\n",
       "      <td>America/Sao_Paulo</td>\n",
       "      <td>27</td>\n",
       "      <td>zCaLwp</td>\n",
       "      <td>zUtuOu</td>\n",
       "      <td>alelex88</td>\n",
       "      <td>pt-br</td>\n",
       "      <td>1.usa.gov</td>\n",
       "      <td>direct</td>\n",
       "      <td>http://apod.nasa.gov/apod/ap120312.html</td>\n",
       "      <td>1333507030</td>\n",
       "      <td>1333507044</td>\n",
       "      <td>Braz</td>\n",
       "      <td>[-23.549999, -46.616699]</td>\n",
       "    </tr>\n",
       "    <tr>\n",
       "      <th>4</th>\n",
       "      <td>Mozilla/5.0 (Windows NT 6.1; WOW64) AppleWebKi...</td>\n",
       "      <td>US</td>\n",
       "      <td>0</td>\n",
       "      <td>America/New_York</td>\n",
       "      <td>MA</td>\n",
       "      <td>9b6kNl</td>\n",
       "      <td>9b6kNl</td>\n",
       "      <td>bitly</td>\n",
       "      <td>en-US,en;q=0.8</td>\n",
       "      <td>bit.ly</td>\n",
       "      <td>http://www.shrewsbury-ma.gov/selco/</td>\n",
       "      <td>http://www.shrewsbury-ma.gov/egov/gallery/1341...</td>\n",
       "      <td>1333607030</td>\n",
       "      <td>1333607039</td>\n",
       "      <td>Shrewsbury</td>\n",
       "      <td>[42.286499, -71.714699]</td>\n",
       "    </tr>\n",
       "    <tr>\n",
       "      <th>5</th>\n",
       "      <td>Mozilla/5.0 (Windows NT 6.1; WOW64) AppleWebKi...</td>\n",
       "      <td>US</td>\n",
       "      <td>0</td>\n",
       "      <td>America/New_York</td>\n",
       "      <td>MA</td>\n",
       "      <td>axNK8c</td>\n",
       "      <td>axNK8c</td>\n",
       "      <td>bitly</td>\n",
       "      <td>en-US,en;q=0.8</td>\n",
       "      <td>bit.ly</td>\n",
       "      <td>http://www.shrewsbury-ma.gov/selco/</td>\n",
       "      <td>http://www.shrewsbury-ma.gov/egov/gallery/1341...</td>\n",
       "      <td>1333707030</td>\n",
       "      <td>1333707048</td>\n",
       "      <td>Shrewsbury</td>\n",
       "      <td>[42.286499, -71.714699]</td>\n",
       "    </tr>\n",
       "    <tr>\n",
       "      <th>6</th>\n",
       "      <td>Mozilla/5.0 (Windows NT 5.1) AppleWebKit/535.1...</td>\n",
       "      <td>PL</td>\n",
       "      <td>0</td>\n",
       "      <td>Europe/Warsaw</td>\n",
       "      <td>77</td>\n",
       "      <td>wcndER</td>\n",
       "      <td>zkpJBR</td>\n",
       "      <td>bnjacobs</td>\n",
       "      <td>pl-PL,pl;q=0.8,en-US;q=0.6,en;q=0.4</td>\n",
       "      <td>1.usa.gov</td>\n",
       "      <td>http://plus.url.google.com/url?sa=z&amp;n=13319232...</td>\n",
       "      <td>http://www.nasa.gov/mission_pages/nustar/main/...</td>\n",
       "      <td>1333807030</td>\n",
       "      <td>1333807040</td>\n",
       "      <td>Luban</td>\n",
       "      <td>[51.116699, 15.2833]</td>\n",
       "    </tr>\n",
       "    <tr>\n",
       "      <th>7</th>\n",
       "      <td>Mozilla/5.0 (Windows NT 6.1; rv:2.0.1) Gecko/2...</td>\n",
       "      <td>None</td>\n",
       "      <td>0</td>\n",
       "      <td></td>\n",
       "      <td>NaN</td>\n",
       "      <td>wcndER</td>\n",
       "      <td>zkpJBR</td>\n",
       "      <td>bnjacobs</td>\n",
       "      <td>bg,en-us;q=0.7,en;q=0.3</td>\n",
       "      <td>1.usa.gov</td>\n",
       "      <td>http://www.facebook.com/</td>\n",
       "      <td>http://www.nasa.gov/mission_pages/nustar/main/...</td>\n",
       "      <td>1334007036</td>\n",
       "      <td>13340070364</td>\n",
       "      <td>NaN</td>\n",
       "      <td>NaN</td>\n",
       "    </tr>\n",
       "    <tr>\n",
       "      <th>8</th>\n",
       "      <td>Opera/9.80 (Ubuntu 14.04.6; Linux zbov; U; en)...</td>\n",
       "      <td>None</td>\n",
       "      <td>0</td>\n",
       "      <td></td>\n",
       "      <td>NaN</td>\n",
       "      <td>wcndER</td>\n",
       "      <td>zkpJBR</td>\n",
       "      <td>bnjacobs</td>\n",
       "      <td>en-US, en</td>\n",
       "      <td>1.usa.gov</td>\n",
       "      <td>http://www.facebook.com/l.php?u=http%3A%2F%2F1...</td>\n",
       "      <td>http://www.nasa.gov/mission_pages/nustar/main/...</td>\n",
       "      <td>1333907030</td>\n",
       "      <td>1333907042</td>\n",
       "      <td>NaN</td>\n",
       "      <td>NaN</td>\n",
       "    </tr>\n",
       "    <tr>\n",
       "      <th>9</th>\n",
       "      <td>Mozilla/5.0 (Windows NT 6.1; WOW64) AppleWebKi...</td>\n",
       "      <td>None</td>\n",
       "      <td>0</td>\n",
       "      <td></td>\n",
       "      <td>NaN</td>\n",
       "      <td>zCaLwp</td>\n",
       "      <td>zUtuOu</td>\n",
       "      <td>alelex88</td>\n",
       "      <td>pt-BR,pt;q=0.8,en-US;q=0.6,en;q=0.4</td>\n",
       "      <td>1.usa.gov</td>\n",
       "      <td>http://t.co/o1Pd0WeV</td>\n",
       "      <td>http://apod.nasa.gov/apod/ap120312.html</td>\n",
       "      <td>1334007030</td>\n",
       "      <td>1334007040</td>\n",
       "      <td>NaN</td>\n",
       "      <td>NaN</td>\n",
       "    </tr>\n",
       "    <tr>\n",
       "      <th>10</th>\n",
       "      <td>Mozilla/5.0 (Windows NT 6.1; WOW64; rv:10.0.2)...</td>\n",
       "      <td>US</td>\n",
       "      <td>1</td>\n",
       "      <td>America/Los_Angeles</td>\n",
       "      <td>WA</td>\n",
       "      <td>vNJS4H</td>\n",
       "      <td>u0uD9q</td>\n",
       "      <td>o_4us71ccioa</td>\n",
       "      <td>en-us,en;q=0.5</td>\n",
       "      <td>1.usa.gov</td>\n",
       "      <td>direct</td>\n",
       "      <td>https://www.nysdot.gov/rexdesign/design/commun...</td>\n",
       "      <td>1334107030</td>\n",
       "      <td>1334107040</td>\n",
       "      <td>Seattle</td>\n",
       "      <td>[47.5951, -122.332603]</td>\n",
       "    </tr>\n",
       "    <tr>\n",
       "      <th>11</th>\n",
       "      <td>Mozilla/5.0 (Macintosh; U; Intel Mac OS X 10.4...</td>\n",
       "      <td>US</td>\n",
       "      <td>0</td>\n",
       "      <td>America/New_York</td>\n",
       "      <td>DC</td>\n",
       "      <td>wG7OIH</td>\n",
       "      <td>A0nRz4</td>\n",
       "      <td>darrellissa</td>\n",
       "      <td>en-us,en;q=0.5</td>\n",
       "      <td>1.usa.gov</td>\n",
       "      <td>http://t.co/ND7SoPyo</td>\n",
       "      <td>http://oversight.house.gov/wp-content/uploads/...</td>\n",
       "      <td>1334207040</td>\n",
       "      <td>1334207043</td>\n",
       "      <td>Washington</td>\n",
       "      <td>[38.937599, -77.092796]</td>\n",
       "    </tr>\n",
       "  </tbody>\n",
       "</table>\n",
       "</div>"
      ],
      "text/plain": [
       "                                                    a     c  nk  \\\n",
       "0   Mozilla/5.0 (Windows NT 6.1; WOW64) AppleWebKi...    US   1   \n",
       "1                              GoogleMaps/RochesterNY    US   0   \n",
       "2   Mozilla/4.0 (Windows NT 6.1; MSIE 8.0; Windows...    US   1   \n",
       "3   Mozilla/5.0 (Macintosh; Intel Mac OS X 10_6_8)...    BR   0   \n",
       "4   Mozilla/5.0 (Windows NT 6.1; WOW64) AppleWebKi...    US   0   \n",
       "5   Mozilla/5.0 (Windows NT 6.1; WOW64) AppleWebKi...    US   0   \n",
       "6   Mozilla/5.0 (Windows NT 5.1) AppleWebKit/535.1...    PL   0   \n",
       "7   Mozilla/5.0 (Windows NT 6.1; rv:2.0.1) Gecko/2...  None   0   \n",
       "8   Opera/9.80 (Ubuntu 14.04.6; Linux zbov; U; en)...  None   0   \n",
       "9   Mozilla/5.0 (Windows NT 6.1; WOW64) AppleWebKi...  None   0   \n",
       "10  Mozilla/5.0 (Windows NT 6.1; WOW64; rv:10.0.2)...    US   1   \n",
       "11  Mozilla/5.0 (Macintosh; U; Intel Mac OS X 10.4...    US   0   \n",
       "\n",
       "                     tz   gr       g       h             l  \\\n",
       "0      America/New_York   MA  A6qOVH  wfLQtf       orofrog   \n",
       "1        America/Denver   UT  mwszkS  mwszkS         bitly   \n",
       "2      America/New_York   DC  xxr3Qb  xxr3Qb         bitly   \n",
       "3     America/Sao_Paulo   27  zCaLwp  zUtuOu      alelex88   \n",
       "4      America/New_York   MA  9b6kNl  9b6kNl         bitly   \n",
       "5      America/New_York   MA  axNK8c  axNK8c         bitly   \n",
       "6         Europe/Warsaw   77  wcndER  zkpJBR      bnjacobs   \n",
       "7                        NaN  wcndER  zkpJBR      bnjacobs   \n",
       "8                        NaN  wcndER  zkpJBR      bnjacobs   \n",
       "9                        NaN  zCaLwp  zUtuOu      alelex88   \n",
       "10  America/Los_Angeles   WA  vNJS4H  u0uD9q  o_4us71ccioa   \n",
       "11     America/New_York   DC  wG7OIH  A0nRz4   darrellissa   \n",
       "\n",
       "                                     al         hh  \\\n",
       "0                        en-US,en;q=0.8  1.usa.gov   \n",
       "1                                   NaN       j.mp   \n",
       "2                                 en-US  1.usa.gov   \n",
       "3                                 pt-br  1.usa.gov   \n",
       "4                        en-US,en;q=0.8     bit.ly   \n",
       "5                        en-US,en;q=0.8     bit.ly   \n",
       "6   pl-PL,pl;q=0.8,en-US;q=0.6,en;q=0.4  1.usa.gov   \n",
       "7               bg,en-us;q=0.7,en;q=0.3  1.usa.gov   \n",
       "8                             en-US, en  1.usa.gov   \n",
       "9   pt-BR,pt;q=0.8,en-US;q=0.6,en;q=0.4  1.usa.gov   \n",
       "10                       en-us,en;q=0.5  1.usa.gov   \n",
       "11                       en-us,en;q=0.5  1.usa.gov   \n",
       "\n",
       "                                                    r  \\\n",
       "0   http://www.facebook.com/l/7AQEFzjSi/1.usa.gov/...   \n",
       "1                            http://www.AwareMap.com/   \n",
       "2                                http://t.co/03elZC4Q   \n",
       "3                                              direct   \n",
       "4                 http://www.shrewsbury-ma.gov/selco/   \n",
       "5                 http://www.shrewsbury-ma.gov/selco/   \n",
       "6   http://plus.url.google.com/url?sa=z&n=13319232...   \n",
       "7                            http://www.facebook.com/   \n",
       "8   http://www.facebook.com/l.php?u=http%3A%2F%2F1...   \n",
       "9                                http://t.co/o1Pd0WeV   \n",
       "10                                             direct   \n",
       "11                               http://t.co/ND7SoPyo   \n",
       "\n",
       "                                                    u           t  \\\n",
       "0         http://www.ncbi.nlm.nih.gov/pubmed/22415991  1333307030   \n",
       "1         http://www.monroecounty.gov/etc/911/rss.php  1331923249   \n",
       "2   http://boxer.senate.gov/en/press/releases/0316...  1333407030   \n",
       "3             http://apod.nasa.gov/apod/ap120312.html  1333507030   \n",
       "4   http://www.shrewsbury-ma.gov/egov/gallery/1341...  1333607030   \n",
       "5   http://www.shrewsbury-ma.gov/egov/gallery/1341...  1333707030   \n",
       "6   http://www.nasa.gov/mission_pages/nustar/main/...  1333807030   \n",
       "7   http://www.nasa.gov/mission_pages/nustar/main/...  1334007036   \n",
       "8   http://www.nasa.gov/mission_pages/nustar/main/...  1333907030   \n",
       "9             http://apod.nasa.gov/apod/ap120312.html  1334007030   \n",
       "10  https://www.nysdot.gov/rexdesign/design/commun...  1334107030   \n",
       "11  http://oversight.house.gov/wp-content/uploads/...  1334207040   \n",
       "\n",
       "             hc          cy                        ll  \n",
       "0    1333307037     Danvers   [42.576698, -70.954903]  \n",
       "1    1308262393       Provo  [40.218102, -111.613297]  \n",
       "2    1333407035  Washington     [38.9007, -77.043098]  \n",
       "3    1333507044        Braz  [-23.549999, -46.616699]  \n",
       "4    1333607039  Shrewsbury   [42.286499, -71.714699]  \n",
       "5    1333707048  Shrewsbury   [42.286499, -71.714699]  \n",
       "6    1333807040       Luban      [51.116699, 15.2833]  \n",
       "7   13340070364         NaN                       NaN  \n",
       "8    1333907042         NaN                       NaN  \n",
       "9    1334007040         NaN                       NaN  \n",
       "10   1334107040     Seattle    [47.5951, -122.332603]  \n",
       "11   1334207043  Washington   [38.937599, -77.092796]  "
      ]
     },
     "execution_count": 3,
     "metadata": {},
     "output_type": "execute_result"
    }
   ],
   "source": [
    "df"
   ]
  },
  {
   "cell_type": "markdown",
   "id": "original-scholarship",
   "metadata": {},
   "source": [
    "## web_browser"
   ]
  },
  {
   "cell_type": "code",
   "execution_count": 4,
   "id": "structured-christian",
   "metadata": {
    "ExecuteTime": {
     "end_time": "2023-03-09T14:42:43.098662Z",
     "start_time": "2023-03-09T14:42:42.988950Z"
    }
   },
   "outputs": [],
   "source": [
    "### create column for web_browser\n",
    "df['web_browser'] = df['a'].apply(lambda x : x.split('/')[0])"
   ]
  },
  {
   "cell_type": "code",
   "execution_count": 5,
   "id": "local-ceremony",
   "metadata": {
    "ExecuteTime": {
     "end_time": "2023-03-09T14:42:43.222820Z",
     "start_time": "2023-03-09T14:42:43.101535Z"
    }
   },
   "outputs": [
    {
     "data": {
      "text/plain": [
       "0        Mozilla\n",
       "1     GoogleMaps\n",
       "2        Mozilla\n",
       "3        Mozilla\n",
       "4        Mozilla\n",
       "5        Mozilla\n",
       "6        Mozilla\n",
       "7        Mozilla\n",
       "8          Opera\n",
       "9        Mozilla\n",
       "10       Mozilla\n",
       "11       Mozilla\n",
       "Name: web_browser, dtype: object"
      ]
     },
     "execution_count": 5,
     "metadata": {},
     "output_type": "execute_result"
    }
   ],
   "source": [
    "df['web_browser']"
   ]
  },
  {
   "cell_type": "markdown",
   "id": "actual-ontario",
   "metadata": {},
   "source": [
    "##  operating_sys"
   ]
  },
  {
   "cell_type": "code",
   "execution_count": 6,
   "id": "endangered-organization",
   "metadata": {
    "ExecuteTime": {
     "end_time": "2023-03-09T14:42:43.333342Z",
     "start_time": "2023-03-09T14:42:43.227957Z"
    }
   },
   "outputs": [],
   "source": [
    "### create column for operating_sys\n",
    "os = []\n",
    "for i in df['a']:\n",
    "    if i == 'GoogleMaps/RochesterNY':\n",
    "        i = 'Google Map s RochesterNY'\n",
    "    os.append(re.findall(r'\\w+' , i)[3])\n",
    "    "
   ]
  },
  {
   "cell_type": "code",
   "execution_count": 7,
   "id": "infinite-defeat",
   "metadata": {
    "ExecuteTime": {
     "end_time": "2023-03-09T14:42:43.457932Z",
     "start_time": "2023-03-09T14:42:43.335992Z"
    }
   },
   "outputs": [
    {
     "data": {
      "text/plain": [
       "['Mozilla',\n",
       " '5',\n",
       " '0',\n",
       " 'Windows',\n",
       " 'NT',\n",
       " '6',\n",
       " '1',\n",
       " 'WOW64',\n",
       " 'AppleWebKit',\n",
       " '535',\n",
       " '11',\n",
       " 'KHTML',\n",
       " 'like',\n",
       " 'Gecko',\n",
       " 'Chrome',\n",
       " '17',\n",
       " '0',\n",
       " '963',\n",
       " '78',\n",
       " 'Safari',\n",
       " '535',\n",
       " '11']"
      ]
     },
     "execution_count": 7,
     "metadata": {},
     "output_type": "execute_result"
    }
   ],
   "source": [
    "re.findall(r'\\w+' , df['a'][0])"
   ]
  },
  {
   "cell_type": "code",
   "execution_count": 8,
   "id": "desirable-cooperative",
   "metadata": {
    "ExecuteTime": {
     "end_time": "2023-03-09T14:42:43.577641Z",
     "start_time": "2023-03-09T14:42:43.464790Z"
    }
   },
   "outputs": [],
   "source": [
    "df['operating_sys'] = os"
   ]
  },
  {
   "cell_type": "code",
   "execution_count": 9,
   "id": "residential-former",
   "metadata": {
    "ExecuteTime": {
     "end_time": "2023-03-09T14:42:43.702002Z",
     "start_time": "2023-03-09T14:42:43.582279Z"
    }
   },
   "outputs": [
    {
     "data": {
      "text/plain": [
       "0         Windows\n",
       "1     RochesterNY\n",
       "2         Windows\n",
       "3       Macintosh\n",
       "4         Windows\n",
       "5         Windows\n",
       "6         Windows\n",
       "7         Windows\n",
       "8          Ubuntu\n",
       "9         Windows\n",
       "10        Windows\n",
       "11      Macintosh\n",
       "Name: operating_sys, dtype: object"
      ]
     },
     "execution_count": 9,
     "metadata": {},
     "output_type": "execute_result"
    }
   ],
   "source": [
    "df['operating_sys']"
   ]
  },
  {
   "cell_type": "markdown",
   "id": "amateur-international",
   "metadata": {
    "ExecuteTime": {
     "end_time": "2023-02-26T20:48:43.500511Z",
     "start_time": "2023-02-26T20:48:43.496879Z"
    }
   },
   "source": [
    "##  User URL\n"
   ]
  },
  {
   "cell_type": "code",
   "execution_count": 10,
   "id": "undefined-customs",
   "metadata": {
    "ExecuteTime": {
     "end_time": "2023-03-09T14:42:43.857132Z",
     "start_time": "2023-03-09T14:42:43.705991Z"
    }
   },
   "outputs": [],
   "source": [
    "### create column for url\n",
    "url = []\n",
    "for i in df['r']:\n",
    "    if i == 'direct':\n",
    "        i = '1/2/Direct URL'\n",
    "    url.append(i.split('/')[2])"
   ]
  },
  {
   "cell_type": "code",
   "execution_count": 11,
   "id": "mighty-prague",
   "metadata": {
    "ExecuteTime": {
     "end_time": "2023-03-09T14:42:44.122671Z",
     "start_time": "2023-03-09T14:42:43.860687Z"
    }
   },
   "outputs": [],
   "source": [
    "df['User_URL'] = url"
   ]
  },
  {
   "cell_type": "code",
   "execution_count": 12,
   "id": "disabled-length",
   "metadata": {
    "ExecuteTime": {
     "end_time": "2023-03-09T14:42:44.406224Z",
     "start_time": "2023-03-09T14:42:44.127611Z"
    }
   },
   "outputs": [
    {
     "data": {
      "text/plain": [
       "0          www.facebook.com\n",
       "1          www.AwareMap.com\n",
       "2                      t.co\n",
       "3                Direct URL\n",
       "4     www.shrewsbury-ma.gov\n",
       "5     www.shrewsbury-ma.gov\n",
       "6       plus.url.google.com\n",
       "7          www.facebook.com\n",
       "8          www.facebook.com\n",
       "9                      t.co\n",
       "10               Direct URL\n",
       "11                     t.co\n",
       "Name: User_URL, dtype: object"
      ]
     },
     "execution_count": 12,
     "metadata": {},
     "output_type": "execute_result"
    }
   ],
   "source": [
    "df['User_URL']"
   ]
  },
  {
   "cell_type": "markdown",
   "id": "challenging-cricket",
   "metadata": {
    "ExecuteTime": {
     "end_time": "2023-02-26T20:53:32.520340Z",
     "start_time": "2023-02-26T20:53:32.516113Z"
    }
   },
   "source": [
    "##  URL Request"
   ]
  },
  {
   "cell_type": "code",
   "execution_count": 13,
   "id": "single-nomination",
   "metadata": {
    "ExecuteTime": {
     "end_time": "2023-03-09T14:42:44.569755Z",
     "start_time": "2023-03-09T14:42:44.410957Z"
    }
   },
   "outputs": [],
   "source": [
    "df['URL_Request'] = df['u'].apply(lambda x : x.split('/')[2])"
   ]
  },
  {
   "cell_type": "code",
   "execution_count": 14,
   "id": "fifty-window",
   "metadata": {
    "ExecuteTime": {
     "end_time": "2023-03-09T14:42:44.699347Z",
     "start_time": "2023-03-09T14:42:44.572979Z"
    }
   },
   "outputs": [
    {
     "data": {
      "text/plain": [
       "0      www.ncbi.nlm.nih.gov\n",
       "1      www.monroecounty.gov\n",
       "2          boxer.senate.gov\n",
       "3             apod.nasa.gov\n",
       "4     www.shrewsbury-ma.gov\n",
       "5     www.shrewsbury-ma.gov\n",
       "6              www.nasa.gov\n",
       "7              www.nasa.gov\n",
       "8              www.nasa.gov\n",
       "9             apod.nasa.gov\n",
       "10           www.nysdot.gov\n",
       "11      oversight.house.gov\n",
       "Name: URL_Request, dtype: object"
      ]
     },
     "execution_count": 14,
     "metadata": {},
     "output_type": "execute_result"
    }
   ],
   "source": [
    "## EX:-\n",
    "df['URL_Request']"
   ]
  },
  {
   "cell_type": "markdown",
   "id": "satisfactory-chair",
   "metadata": {
    "ExecuteTime": {
     "end_time": "2023-02-25T22:26:56.874606Z",
     "start_time": "2023-02-25T22:26:56.870538Z"
    }
   },
   "source": [
    "## create column for city "
   ]
  },
  {
   "cell_type": "code",
   "execution_count": 15,
   "id": "natural-minister",
   "metadata": {
    "ExecuteTime": {
     "end_time": "2023-03-09T14:42:44.850551Z",
     "start_time": "2023-03-09T14:42:44.703163Z"
    }
   },
   "outputs": [],
   "source": [
    "df['City'] = df['cy']"
   ]
  },
  {
   "cell_type": "code",
   "execution_count": 16,
   "id": "appropriate-moment",
   "metadata": {
    "ExecuteTime": {
     "end_time": "2023-03-09T14:42:44.975385Z",
     "start_time": "2023-03-09T14:42:44.853476Z"
    }
   },
   "outputs": [
    {
     "data": {
      "text/plain": [
       "0        Danvers\n",
       "1          Provo\n",
       "2     Washington\n",
       "3           Braz\n",
       "4     Shrewsbury\n",
       "5     Shrewsbury\n",
       "6          Luban\n",
       "7            NaN\n",
       "8            NaN\n",
       "9            NaN\n",
       "10       Seattle\n",
       "11    Washington\n",
       "Name: City, dtype: object"
      ]
     },
     "execution_count": 16,
     "metadata": {},
     "output_type": "execute_result"
    }
   ],
   "source": [
    "df['City']"
   ]
  },
  {
   "cell_type": "markdown",
   "id": "imperial-repeat",
   "metadata": {
    "ExecuteTime": {
     "end_time": "2023-02-25T22:32:21.168295Z",
     "start_time": "2023-02-25T22:32:21.164051Z"
    }
   },
   "source": [
    "## longitude"
   ]
  },
  {
   "cell_type": "code",
   "execution_count": 17,
   "id": "collective-foundation",
   "metadata": {
    "ExecuteTime": {
     "end_time": "2023-03-09T14:42:45.092108Z",
     "start_time": "2023-03-09T14:42:44.978869Z"
    }
   },
   "outputs": [
    {
     "name": "stderr",
     "output_type": "stream",
     "text": [
      "<ipython-input-17-7c7fb41c183b>:1: SettingWithCopyWarning: \n",
      "A value is trying to be set on a copy of a slice from a DataFrame\n",
      "\n",
      "See the caveats in the documentation: https://pandas.pydata.org/pandas-docs/stable/user_guide/indexing.html#returning-a-view-versus-a-copy\n",
      "  df['ll'][7] = [np.nan ,np.nan]\n",
      "<ipython-input-17-7c7fb41c183b>:2: SettingWithCopyWarning: \n",
      "A value is trying to be set on a copy of a slice from a DataFrame\n",
      "\n",
      "See the caveats in the documentation: https://pandas.pydata.org/pandas-docs/stable/user_guide/indexing.html#returning-a-view-versus-a-copy\n",
      "  df['ll'][8] = [np.nan ,np.nan]\n",
      "<ipython-input-17-7c7fb41c183b>:3: SettingWithCopyWarning: \n",
      "A value is trying to be set on a copy of a slice from a DataFrame\n",
      "\n",
      "See the caveats in the documentation: https://pandas.pydata.org/pandas-docs/stable/user_guide/indexing.html#returning-a-view-versus-a-copy\n",
      "  df['ll'][9] = [np.nan ,np.nan]\n"
     ]
    }
   ],
   "source": [
    "df['ll'][7] = [np.nan ,np.nan]\n",
    "df['ll'][8] = [np.nan ,np.nan]\n",
    "df['ll'][9] = [np.nan ,np.nan]"
   ]
  },
  {
   "cell_type": "code",
   "execution_count": 18,
   "id": "proof-concentrate",
   "metadata": {
    "ExecuteTime": {
     "end_time": "2023-03-09T14:42:45.193212Z",
     "start_time": "2023-03-09T14:42:45.096815Z"
    }
   },
   "outputs": [],
   "source": [
    "long = []\n",
    "for i in df['ll']:\n",
    "    long.append(i[0])"
   ]
  },
  {
   "cell_type": "code",
   "execution_count": 19,
   "id": "registered-person",
   "metadata": {
    "ExecuteTime": {
     "end_time": "2023-03-09T14:42:45.304171Z",
     "start_time": "2023-03-09T14:42:45.196332Z"
    }
   },
   "outputs": [],
   "source": [
    "df['longitude'] = long"
   ]
  },
  {
   "cell_type": "code",
   "execution_count": 20,
   "id": "computational-cutting",
   "metadata": {
    "ExecuteTime": {
     "end_time": "2023-03-09T14:42:45.406673Z",
     "start_time": "2023-03-09T14:42:45.307638Z"
    }
   },
   "outputs": [
    {
     "data": {
      "text/plain": [
       "0     42.576698\n",
       "1     40.218102\n",
       "2     38.900700\n",
       "3    -23.549999\n",
       "4     42.286499\n",
       "5     42.286499\n",
       "6     51.116699\n",
       "7           NaN\n",
       "8           NaN\n",
       "9           NaN\n",
       "10    47.595100\n",
       "11    38.937599\n",
       "Name: longitude, dtype: float64"
      ]
     },
     "execution_count": 20,
     "metadata": {},
     "output_type": "execute_result"
    }
   ],
   "source": [
    "df['longitude']"
   ]
  },
  {
   "cell_type": "markdown",
   "id": "arabic-investing",
   "metadata": {
    "ExecuteTime": {
     "end_time": "2023-02-25T22:45:42.857330Z",
     "start_time": "2023-02-25T22:45:42.853060Z"
    }
   },
   "source": [
    "## latitude"
   ]
  },
  {
   "cell_type": "code",
   "execution_count": 21,
   "id": "numerous-sperm",
   "metadata": {
    "ExecuteTime": {
     "end_time": "2023-03-09T14:42:45.580375Z",
     "start_time": "2023-03-09T14:42:45.410080Z"
    }
   },
   "outputs": [],
   "source": [
    "lat = []\n",
    "for i in df['ll']:\n",
    "    lat.append(i[1])"
   ]
  },
  {
   "cell_type": "code",
   "execution_count": 22,
   "id": "twenty-relevance",
   "metadata": {
    "ExecuteTime": {
     "end_time": "2023-03-09T14:42:45.692080Z",
     "start_time": "2023-03-09T14:42:45.583692Z"
    }
   },
   "outputs": [],
   "source": [
    "df['latitude'] = lat"
   ]
  },
  {
   "cell_type": "code",
   "execution_count": 23,
   "id": "objective-utility",
   "metadata": {
    "ExecuteTime": {
     "end_time": "2023-03-09T14:42:45.805124Z",
     "start_time": "2023-03-09T14:42:45.698876Z"
    }
   },
   "outputs": [
    {
     "data": {
      "text/plain": [
       "0     -70.954903\n",
       "1    -111.613297\n",
       "2     -77.043098\n",
       "3     -46.616699\n",
       "4     -71.714699\n",
       "5     -71.714699\n",
       "6      15.283300\n",
       "7            NaN\n",
       "8            NaN\n",
       "9            NaN\n",
       "10   -122.332603\n",
       "11    -77.092796\n",
       "Name: latitude, dtype: float64"
      ]
     },
     "execution_count": 23,
     "metadata": {},
     "output_type": "execute_result"
    }
   ],
   "source": [
    "df['latitude']"
   ]
  },
  {
   "cell_type": "markdown",
   "id": "gorgeous-harbor",
   "metadata": {
    "ExecuteTime": {
     "end_time": "2023-02-26T21:37:16.504491Z",
     "start_time": "2023-02-26T21:37:16.500319Z"
    }
   },
   "source": [
    "## Time zone"
   ]
  },
  {
   "cell_type": "code",
   "execution_count": 24,
   "id": "explicit-geometry",
   "metadata": {
    "ExecuteTime": {
     "end_time": "2023-03-09T14:42:45.928100Z",
     "start_time": "2023-03-09T14:42:45.809661Z"
    }
   },
   "outputs": [
    {
     "data": {
      "text/plain": [
       "0        America/New_York\n",
       "1          America/Denver\n",
       "2        America/New_York\n",
       "3       America/Sao_Paulo\n",
       "4        America/New_York\n",
       "5        America/New_York\n",
       "6           Europe/Warsaw\n",
       "7                        \n",
       "8                        \n",
       "9                        \n",
       "10    America/Los_Angeles\n",
       "11       America/New_York\n",
       "Name: tz, dtype: object"
      ]
     },
     "execution_count": 24,
     "metadata": {},
     "output_type": "execute_result"
    }
   ],
   "source": [
    "df['tz']\n",
    "\n"
   ]
  },
  {
   "cell_type": "markdown",
   "id": "prerequisite-statistics",
   "metadata": {},
   "source": [
    "### Set time zone as following:\n",
    "    Time zone for usa cities is Eastern Standard Time (EST)\n",
    "    Time zone for Europe cities is Currently Central European Time (CET)"
   ]
  },
  {
   "cell_type": "code",
   "execution_count": 25,
   "id": "brilliant-colombia",
   "metadata": {
    "ExecuteTime": {
     "end_time": "2023-03-09T14:42:46.062881Z",
     "start_time": "2023-03-09T14:42:45.931986Z"
    }
   },
   "outputs": [],
   "source": [
    "time_zone = []\n",
    "for i in df['tz']:\n",
    "    if i.split('/')[0] == 'America':\n",
    "        i = 'Eastern Standard Time (EST)'\n",
    "    elif i.split('/')[0] == 'Europe':\n",
    "        i = 'Currently Central European Time (CET)'\n",
    "    else:\n",
    "        i = np.nan\n",
    "    time_zone.append(i)"
   ]
  },
  {
   "cell_type": "code",
   "execution_count": 26,
   "id": "expressed-defensive",
   "metadata": {
    "ExecuteTime": {
     "end_time": "2023-03-09T14:42:46.179958Z",
     "start_time": "2023-03-09T14:42:46.066084Z"
    }
   },
   "outputs": [],
   "source": [
    "df['Time_Zone'] = time_zone"
   ]
  },
  {
   "cell_type": "code",
   "execution_count": 27,
   "id": "sized-camping",
   "metadata": {
    "ExecuteTime": {
     "end_time": "2023-03-09T14:42:46.281200Z",
     "start_time": "2023-03-09T14:42:46.183299Z"
    }
   },
   "outputs": [
    {
     "data": {
      "text/plain": [
       "0               Eastern Standard Time (EST)\n",
       "1               Eastern Standard Time (EST)\n",
       "2               Eastern Standard Time (EST)\n",
       "3               Eastern Standard Time (EST)\n",
       "4               Eastern Standard Time (EST)\n",
       "5               Eastern Standard Time (EST)\n",
       "6     Currently Central European Time (CET)\n",
       "7                                       NaN\n",
       "8                                       NaN\n",
       "9                                       NaN\n",
       "10              Eastern Standard Time (EST)\n",
       "11              Eastern Standard Time (EST)\n",
       "Name: Time_Zone, dtype: object"
      ]
     },
     "execution_count": 27,
     "metadata": {},
     "output_type": "execute_result"
    }
   ],
   "source": [
    "df['Time_Zone']"
   ]
  },
  {
   "cell_type": "markdown",
   "id": "organizational-mason",
   "metadata": {},
   "source": [
    "## Time in"
   ]
  },
  {
   "cell_type": "code",
   "execution_count": 28,
   "id": "nonprofit-ebony",
   "metadata": {
    "ExecuteTime": {
     "end_time": "2023-03-09T14:42:46.417335Z",
     "start_time": "2023-03-09T14:42:46.285002Z"
    }
   },
   "outputs": [
    {
     "data": {
      "text/plain": [
       "0     1333307030\n",
       "1     1331923249\n",
       "2     1333407030\n",
       "3     1333507030\n",
       "4     1333607030\n",
       "5     1333707030\n",
       "6     1333807030\n",
       "7     1334007036\n",
       "8     1333907030\n",
       "9     1334007030\n",
       "10    1334107030\n",
       "11    1334207040\n",
       "Name: t, dtype: int64"
      ]
     },
     "execution_count": 28,
     "metadata": {},
     "output_type": "execute_result"
    }
   ],
   "source": [
    "df['t']"
   ]
  },
  {
   "cell_type": "code",
   "execution_count": 29,
   "id": "experienced-grove",
   "metadata": {
    "ExecuteTime": {
     "end_time": "2023-03-09T14:42:46.510097Z",
     "start_time": "2023-03-09T14:42:46.421574Z"
    }
   },
   "outputs": [],
   "source": [
    "import datetime"
   ]
  },
  {
   "cell_type": "code",
   "execution_count": 30,
   "id": "social-parts",
   "metadata": {
    "ExecuteTime": {
     "end_time": "2023-03-09T14:42:46.621079Z",
     "start_time": "2023-03-09T14:42:46.513010Z"
    }
   },
   "outputs": [],
   "source": [
    "time_in = []\n",
    "for i in df['t']:\n",
    "    time_in.append(datetime.datetime.fromtimestamp(i))"
   ]
  },
  {
   "cell_type": "code",
   "execution_count": 31,
   "id": "romance-arabic",
   "metadata": {
    "ExecuteTime": {
     "end_time": "2023-03-09T14:42:46.732550Z",
     "start_time": "2023-03-09T14:42:46.624504Z"
    }
   },
   "outputs": [],
   "source": [
    "df['Time_in'] = time_in"
   ]
  },
  {
   "cell_type": "markdown",
   "id": "specific-spirit",
   "metadata": {
    "ExecuteTime": {
     "end_time": "2023-02-26T21:58:43.906311Z",
     "start_time": "2023-02-26T21:58:42.827892Z"
    }
   },
   "source": [
    "## Time out"
   ]
  },
  {
   "cell_type": "code",
   "execution_count": 32,
   "id": "corrected-commission",
   "metadata": {
    "ExecuteTime": {
     "end_time": "2023-03-09T14:42:46.907698Z",
     "start_time": "2023-03-09T14:42:46.736315Z"
    }
   },
   "outputs": [
    {
     "data": {
      "text/plain": [
       "0      1333307037\n",
       "1      1308262393\n",
       "2      1333407035\n",
       "3      1333507044\n",
       "4      1333607039\n",
       "5      1333707048\n",
       "6      1333807040\n",
       "7     13340070364\n",
       "8      1333907042\n",
       "9      1334007040\n",
       "10     1334107040\n",
       "11     1334207043\n",
       "Name: hc, dtype: int64"
      ]
     },
     "execution_count": 32,
     "metadata": {},
     "output_type": "execute_result"
    }
   ],
   "source": [
    "df['hc']"
   ]
  },
  {
   "cell_type": "code",
   "execution_count": 33,
   "id": "turkish-crown",
   "metadata": {
    "ExecuteTime": {
     "end_time": "2023-03-09T14:42:47.020149Z",
     "start_time": "2023-03-09T14:42:46.911373Z"
    }
   },
   "outputs": [],
   "source": [
    "time_out = []\n",
    "for i in df['hc']:\n",
    "    time_out.append(datetime.datetime.fromtimestamp(i))"
   ]
  },
  {
   "cell_type": "code",
   "execution_count": 34,
   "id": "central-individual",
   "metadata": {
    "ExecuteTime": {
     "end_time": "2023-03-09T14:42:47.131076Z",
     "start_time": "2023-03-09T14:42:47.023385Z"
    }
   },
   "outputs": [],
   "source": [
    "df['Time_out'] = time_out"
   ]
  },
  {
   "cell_type": "code",
   "execution_count": 35,
   "id": "minute-responsibility",
   "metadata": {
    "ExecuteTime": {
     "end_time": "2023-03-09T14:42:47.240720Z",
     "start_time": "2023-03-09T14:42:47.134063Z"
    }
   },
   "outputs": [],
   "source": [
    "## Extract required column in seperate data frame called users_df"
   ]
  },
  {
   "cell_type": "code",
   "execution_count": 36,
   "id": "subtle-desire",
   "metadata": {
    "ExecuteTime": {
     "end_time": "2023-03-09T14:42:47.402322Z",
     "start_time": "2023-03-09T14:42:47.243590Z"
    }
   },
   "outputs": [],
   "source": [
    "users_df = df[['web_browser' ,'operating_sys' , 'User_URL', 'URL_Request' , 'City', 'longitude' , 'latitude' , 'Time_Zone' , 'Time_in' , 'Time_out' ]]"
   ]
  },
  {
   "cell_type": "code",
   "execution_count": 37,
   "id": "synthetic-europe",
   "metadata": {
    "ExecuteTime": {
     "end_time": "2023-03-09T14:42:47.536545Z",
     "start_time": "2023-03-09T14:42:47.405100Z"
    }
   },
   "outputs": [
    {
     "data": {
      "text/html": [
       "<div>\n",
       "<style scoped>\n",
       "    .dataframe tbody tr th:only-of-type {\n",
       "        vertical-align: middle;\n",
       "    }\n",
       "\n",
       "    .dataframe tbody tr th {\n",
       "        vertical-align: top;\n",
       "    }\n",
       "\n",
       "    .dataframe thead th {\n",
       "        text-align: right;\n",
       "    }\n",
       "</style>\n",
       "<table border=\"1\" class=\"dataframe\">\n",
       "  <thead>\n",
       "    <tr style=\"text-align: right;\">\n",
       "      <th></th>\n",
       "      <th>web_browser</th>\n",
       "      <th>operating_sys</th>\n",
       "      <th>User_URL</th>\n",
       "      <th>URL_Request</th>\n",
       "      <th>City</th>\n",
       "      <th>longitude</th>\n",
       "      <th>latitude</th>\n",
       "      <th>Time_Zone</th>\n",
       "      <th>Time_in</th>\n",
       "      <th>Time_out</th>\n",
       "    </tr>\n",
       "  </thead>\n",
       "  <tbody>\n",
       "    <tr>\n",
       "      <th>0</th>\n",
       "      <td>Mozilla</td>\n",
       "      <td>Windows</td>\n",
       "      <td>www.facebook.com</td>\n",
       "      <td>www.ncbi.nlm.nih.gov</td>\n",
       "      <td>Danvers</td>\n",
       "      <td>42.576698</td>\n",
       "      <td>-70.954903</td>\n",
       "      <td>Eastern Standard Time (EST)</td>\n",
       "      <td>2012-04-01 21:03:50</td>\n",
       "      <td>2012-04-01 21:03:57</td>\n",
       "    </tr>\n",
       "    <tr>\n",
       "      <th>1</th>\n",
       "      <td>GoogleMaps</td>\n",
       "      <td>RochesterNY</td>\n",
       "      <td>www.AwareMap.com</td>\n",
       "      <td>www.monroecounty.gov</td>\n",
       "      <td>Provo</td>\n",
       "      <td>40.218102</td>\n",
       "      <td>-111.613297</td>\n",
       "      <td>Eastern Standard Time (EST)</td>\n",
       "      <td>2012-03-16 19:40:49</td>\n",
       "      <td>2011-06-17 00:13:13</td>\n",
       "    </tr>\n",
       "    <tr>\n",
       "      <th>2</th>\n",
       "      <td>Mozilla</td>\n",
       "      <td>Windows</td>\n",
       "      <td>t.co</td>\n",
       "      <td>boxer.senate.gov</td>\n",
       "      <td>Washington</td>\n",
       "      <td>38.900700</td>\n",
       "      <td>-77.043098</td>\n",
       "      <td>Eastern Standard Time (EST)</td>\n",
       "      <td>2012-04-03 00:50:30</td>\n",
       "      <td>2012-04-03 00:50:35</td>\n",
       "    </tr>\n",
       "    <tr>\n",
       "      <th>3</th>\n",
       "      <td>Mozilla</td>\n",
       "      <td>Macintosh</td>\n",
       "      <td>Direct URL</td>\n",
       "      <td>apod.nasa.gov</td>\n",
       "      <td>Braz</td>\n",
       "      <td>-23.549999</td>\n",
       "      <td>-46.616699</td>\n",
       "      <td>Eastern Standard Time (EST)</td>\n",
       "      <td>2012-04-04 04:37:10</td>\n",
       "      <td>2012-04-04 04:37:24</td>\n",
       "    </tr>\n",
       "    <tr>\n",
       "      <th>4</th>\n",
       "      <td>Mozilla</td>\n",
       "      <td>Windows</td>\n",
       "      <td>www.shrewsbury-ma.gov</td>\n",
       "      <td>www.shrewsbury-ma.gov</td>\n",
       "      <td>Shrewsbury</td>\n",
       "      <td>42.286499</td>\n",
       "      <td>-71.714699</td>\n",
       "      <td>Eastern Standard Time (EST)</td>\n",
       "      <td>2012-04-05 08:23:50</td>\n",
       "      <td>2012-04-05 08:23:59</td>\n",
       "    </tr>\n",
       "    <tr>\n",
       "      <th>5</th>\n",
       "      <td>Mozilla</td>\n",
       "      <td>Windows</td>\n",
       "      <td>www.shrewsbury-ma.gov</td>\n",
       "      <td>www.shrewsbury-ma.gov</td>\n",
       "      <td>Shrewsbury</td>\n",
       "      <td>42.286499</td>\n",
       "      <td>-71.714699</td>\n",
       "      <td>Eastern Standard Time (EST)</td>\n",
       "      <td>2012-04-06 12:10:30</td>\n",
       "      <td>2012-04-06 12:10:48</td>\n",
       "    </tr>\n",
       "    <tr>\n",
       "      <th>6</th>\n",
       "      <td>Mozilla</td>\n",
       "      <td>Windows</td>\n",
       "      <td>plus.url.google.com</td>\n",
       "      <td>www.nasa.gov</td>\n",
       "      <td>Luban</td>\n",
       "      <td>51.116699</td>\n",
       "      <td>15.283300</td>\n",
       "      <td>Currently Central European Time (CET)</td>\n",
       "      <td>2012-04-07 15:57:10</td>\n",
       "      <td>2012-04-07 15:57:20</td>\n",
       "    </tr>\n",
       "    <tr>\n",
       "      <th>7</th>\n",
       "      <td>Mozilla</td>\n",
       "      <td>Windows</td>\n",
       "      <td>www.facebook.com</td>\n",
       "      <td>www.nasa.gov</td>\n",
       "      <td>NaN</td>\n",
       "      <td>NaN</td>\n",
       "      <td>NaN</td>\n",
       "      <td>NaN</td>\n",
       "      <td>2012-04-09 23:30:36</td>\n",
       "      <td>2392-09-24 01:06:04</td>\n",
       "    </tr>\n",
       "    <tr>\n",
       "      <th>8</th>\n",
       "      <td>Opera</td>\n",
       "      <td>Ubuntu</td>\n",
       "      <td>www.facebook.com</td>\n",
       "      <td>www.nasa.gov</td>\n",
       "      <td>NaN</td>\n",
       "      <td>NaN</td>\n",
       "      <td>NaN</td>\n",
       "      <td>NaN</td>\n",
       "      <td>2012-04-08 19:43:50</td>\n",
       "      <td>2012-04-08 19:44:02</td>\n",
       "    </tr>\n",
       "    <tr>\n",
       "      <th>9</th>\n",
       "      <td>Mozilla</td>\n",
       "      <td>Windows</td>\n",
       "      <td>t.co</td>\n",
       "      <td>apod.nasa.gov</td>\n",
       "      <td>NaN</td>\n",
       "      <td>NaN</td>\n",
       "      <td>NaN</td>\n",
       "      <td>NaN</td>\n",
       "      <td>2012-04-09 23:30:30</td>\n",
       "      <td>2012-04-09 23:30:40</td>\n",
       "    </tr>\n",
       "    <tr>\n",
       "      <th>10</th>\n",
       "      <td>Mozilla</td>\n",
       "      <td>Windows</td>\n",
       "      <td>Direct URL</td>\n",
       "      <td>www.nysdot.gov</td>\n",
       "      <td>Seattle</td>\n",
       "      <td>47.595100</td>\n",
       "      <td>-122.332603</td>\n",
       "      <td>Eastern Standard Time (EST)</td>\n",
       "      <td>2012-04-11 03:17:10</td>\n",
       "      <td>2012-04-11 03:17:20</td>\n",
       "    </tr>\n",
       "    <tr>\n",
       "      <th>11</th>\n",
       "      <td>Mozilla</td>\n",
       "      <td>Macintosh</td>\n",
       "      <td>t.co</td>\n",
       "      <td>oversight.house.gov</td>\n",
       "      <td>Washington</td>\n",
       "      <td>38.937599</td>\n",
       "      <td>-77.092796</td>\n",
       "      <td>Eastern Standard Time (EST)</td>\n",
       "      <td>2012-04-12 07:04:00</td>\n",
       "      <td>2012-04-12 07:04:03</td>\n",
       "    </tr>\n",
       "  </tbody>\n",
       "</table>\n",
       "</div>"
      ],
      "text/plain": [
       "   web_browser operating_sys               User_URL            URL_Request  \\\n",
       "0      Mozilla       Windows       www.facebook.com   www.ncbi.nlm.nih.gov   \n",
       "1   GoogleMaps   RochesterNY       www.AwareMap.com   www.monroecounty.gov   \n",
       "2      Mozilla       Windows                   t.co       boxer.senate.gov   \n",
       "3      Mozilla     Macintosh             Direct URL          apod.nasa.gov   \n",
       "4      Mozilla       Windows  www.shrewsbury-ma.gov  www.shrewsbury-ma.gov   \n",
       "5      Mozilla       Windows  www.shrewsbury-ma.gov  www.shrewsbury-ma.gov   \n",
       "6      Mozilla       Windows    plus.url.google.com           www.nasa.gov   \n",
       "7      Mozilla       Windows       www.facebook.com           www.nasa.gov   \n",
       "8        Opera        Ubuntu       www.facebook.com           www.nasa.gov   \n",
       "9      Mozilla       Windows                   t.co          apod.nasa.gov   \n",
       "10     Mozilla       Windows             Direct URL         www.nysdot.gov   \n",
       "11     Mozilla     Macintosh                   t.co    oversight.house.gov   \n",
       "\n",
       "          City  longitude    latitude                              Time_Zone  \\\n",
       "0      Danvers  42.576698  -70.954903            Eastern Standard Time (EST)   \n",
       "1        Provo  40.218102 -111.613297            Eastern Standard Time (EST)   \n",
       "2   Washington  38.900700  -77.043098            Eastern Standard Time (EST)   \n",
       "3         Braz -23.549999  -46.616699            Eastern Standard Time (EST)   \n",
       "4   Shrewsbury  42.286499  -71.714699            Eastern Standard Time (EST)   \n",
       "5   Shrewsbury  42.286499  -71.714699            Eastern Standard Time (EST)   \n",
       "6        Luban  51.116699   15.283300  Currently Central European Time (CET)   \n",
       "7          NaN        NaN         NaN                                    NaN   \n",
       "8          NaN        NaN         NaN                                    NaN   \n",
       "9          NaN        NaN         NaN                                    NaN   \n",
       "10     Seattle  47.595100 -122.332603            Eastern Standard Time (EST)   \n",
       "11  Washington  38.937599  -77.092796            Eastern Standard Time (EST)   \n",
       "\n",
       "               Time_in             Time_out  \n",
       "0  2012-04-01 21:03:50  2012-04-01 21:03:57  \n",
       "1  2012-03-16 19:40:49  2011-06-17 00:13:13  \n",
       "2  2012-04-03 00:50:30  2012-04-03 00:50:35  \n",
       "3  2012-04-04 04:37:10  2012-04-04 04:37:24  \n",
       "4  2012-04-05 08:23:50  2012-04-05 08:23:59  \n",
       "5  2012-04-06 12:10:30  2012-04-06 12:10:48  \n",
       "6  2012-04-07 15:57:10  2012-04-07 15:57:20  \n",
       "7  2012-04-09 23:30:36  2392-09-24 01:06:04  \n",
       "8  2012-04-08 19:43:50  2012-04-08 19:44:02  \n",
       "9  2012-04-09 23:30:30  2012-04-09 23:30:40  \n",
       "10 2012-04-11 03:17:10  2012-04-11 03:17:20  \n",
       "11 2012-04-12 07:04:00  2012-04-12 07:04:03  "
      ]
     },
     "execution_count": 37,
     "metadata": {},
     "output_type": "execute_result"
    }
   ],
   "source": [
    "users_df"
   ]
  },
  {
   "cell_type": "markdown",
   "id": "expired-layout",
   "metadata": {},
   "source": [
    "## remove NaN values "
   ]
  },
  {
   "cell_type": "code",
   "execution_count": 38,
   "id": "streaming-honolulu",
   "metadata": {
    "ExecuteTime": {
     "end_time": "2023-03-09T14:42:47.664158Z",
     "start_time": "2023-03-09T14:42:47.541213Z"
    }
   },
   "outputs": [
    {
     "name": "stderr",
     "output_type": "stream",
     "text": [
      "<ipython-input-38-da8935ef7afa>:1: SettingWithCopyWarning: \n",
      "A value is trying to be set on a copy of a slice from a DataFrame\n",
      "\n",
      "See the caveats in the documentation: https://pandas.pydata.org/pandas-docs/stable/user_guide/indexing.html#returning-a-view-versus-a-copy\n",
      "  users_df.dropna(axis = 0 , inplace = True)\n"
     ]
    }
   ],
   "source": [
    "users_df.dropna(axis = 0 , inplace = True)"
   ]
  },
  {
   "cell_type": "code",
   "execution_count": 39,
   "id": "remarkable-century",
   "metadata": {
    "ExecuteTime": {
     "end_time": "2023-03-09T14:42:47.849369Z",
     "start_time": "2023-03-09T14:42:47.667919Z"
    }
   },
   "outputs": [
    {
     "data": {
      "text/html": [
       "<div>\n",
       "<style scoped>\n",
       "    .dataframe tbody tr th:only-of-type {\n",
       "        vertical-align: middle;\n",
       "    }\n",
       "\n",
       "    .dataframe tbody tr th {\n",
       "        vertical-align: top;\n",
       "    }\n",
       "\n",
       "    .dataframe thead th {\n",
       "        text-align: right;\n",
       "    }\n",
       "</style>\n",
       "<table border=\"1\" class=\"dataframe\">\n",
       "  <thead>\n",
       "    <tr style=\"text-align: right;\">\n",
       "      <th></th>\n",
       "      <th>web_browser</th>\n",
       "      <th>operating_sys</th>\n",
       "      <th>User_URL</th>\n",
       "      <th>URL_Request</th>\n",
       "      <th>City</th>\n",
       "      <th>longitude</th>\n",
       "      <th>latitude</th>\n",
       "      <th>Time_Zone</th>\n",
       "      <th>Time_in</th>\n",
       "      <th>Time_out</th>\n",
       "    </tr>\n",
       "  </thead>\n",
       "  <tbody>\n",
       "    <tr>\n",
       "      <th>0</th>\n",
       "      <td>Mozilla</td>\n",
       "      <td>Windows</td>\n",
       "      <td>www.facebook.com</td>\n",
       "      <td>www.ncbi.nlm.nih.gov</td>\n",
       "      <td>Danvers</td>\n",
       "      <td>42.576698</td>\n",
       "      <td>-70.954903</td>\n",
       "      <td>Eastern Standard Time (EST)</td>\n",
       "      <td>2012-04-01 21:03:50</td>\n",
       "      <td>2012-04-01 21:03:57</td>\n",
       "    </tr>\n",
       "    <tr>\n",
       "      <th>1</th>\n",
       "      <td>GoogleMaps</td>\n",
       "      <td>RochesterNY</td>\n",
       "      <td>www.AwareMap.com</td>\n",
       "      <td>www.monroecounty.gov</td>\n",
       "      <td>Provo</td>\n",
       "      <td>40.218102</td>\n",
       "      <td>-111.613297</td>\n",
       "      <td>Eastern Standard Time (EST)</td>\n",
       "      <td>2012-03-16 19:40:49</td>\n",
       "      <td>2011-06-17 00:13:13</td>\n",
       "    </tr>\n",
       "    <tr>\n",
       "      <th>2</th>\n",
       "      <td>Mozilla</td>\n",
       "      <td>Windows</td>\n",
       "      <td>t.co</td>\n",
       "      <td>boxer.senate.gov</td>\n",
       "      <td>Washington</td>\n",
       "      <td>38.900700</td>\n",
       "      <td>-77.043098</td>\n",
       "      <td>Eastern Standard Time (EST)</td>\n",
       "      <td>2012-04-03 00:50:30</td>\n",
       "      <td>2012-04-03 00:50:35</td>\n",
       "    </tr>\n",
       "    <tr>\n",
       "      <th>3</th>\n",
       "      <td>Mozilla</td>\n",
       "      <td>Macintosh</td>\n",
       "      <td>Direct URL</td>\n",
       "      <td>apod.nasa.gov</td>\n",
       "      <td>Braz</td>\n",
       "      <td>-23.549999</td>\n",
       "      <td>-46.616699</td>\n",
       "      <td>Eastern Standard Time (EST)</td>\n",
       "      <td>2012-04-04 04:37:10</td>\n",
       "      <td>2012-04-04 04:37:24</td>\n",
       "    </tr>\n",
       "    <tr>\n",
       "      <th>4</th>\n",
       "      <td>Mozilla</td>\n",
       "      <td>Windows</td>\n",
       "      <td>www.shrewsbury-ma.gov</td>\n",
       "      <td>www.shrewsbury-ma.gov</td>\n",
       "      <td>Shrewsbury</td>\n",
       "      <td>42.286499</td>\n",
       "      <td>-71.714699</td>\n",
       "      <td>Eastern Standard Time (EST)</td>\n",
       "      <td>2012-04-05 08:23:50</td>\n",
       "      <td>2012-04-05 08:23:59</td>\n",
       "    </tr>\n",
       "    <tr>\n",
       "      <th>5</th>\n",
       "      <td>Mozilla</td>\n",
       "      <td>Windows</td>\n",
       "      <td>www.shrewsbury-ma.gov</td>\n",
       "      <td>www.shrewsbury-ma.gov</td>\n",
       "      <td>Shrewsbury</td>\n",
       "      <td>42.286499</td>\n",
       "      <td>-71.714699</td>\n",
       "      <td>Eastern Standard Time (EST)</td>\n",
       "      <td>2012-04-06 12:10:30</td>\n",
       "      <td>2012-04-06 12:10:48</td>\n",
       "    </tr>\n",
       "    <tr>\n",
       "      <th>6</th>\n",
       "      <td>Mozilla</td>\n",
       "      <td>Windows</td>\n",
       "      <td>plus.url.google.com</td>\n",
       "      <td>www.nasa.gov</td>\n",
       "      <td>Luban</td>\n",
       "      <td>51.116699</td>\n",
       "      <td>15.283300</td>\n",
       "      <td>Currently Central European Time (CET)</td>\n",
       "      <td>2012-04-07 15:57:10</td>\n",
       "      <td>2012-04-07 15:57:20</td>\n",
       "    </tr>\n",
       "    <tr>\n",
       "      <th>10</th>\n",
       "      <td>Mozilla</td>\n",
       "      <td>Windows</td>\n",
       "      <td>Direct URL</td>\n",
       "      <td>www.nysdot.gov</td>\n",
       "      <td>Seattle</td>\n",
       "      <td>47.595100</td>\n",
       "      <td>-122.332603</td>\n",
       "      <td>Eastern Standard Time (EST)</td>\n",
       "      <td>2012-04-11 03:17:10</td>\n",
       "      <td>2012-04-11 03:17:20</td>\n",
       "    </tr>\n",
       "    <tr>\n",
       "      <th>11</th>\n",
       "      <td>Mozilla</td>\n",
       "      <td>Macintosh</td>\n",
       "      <td>t.co</td>\n",
       "      <td>oversight.house.gov</td>\n",
       "      <td>Washington</td>\n",
       "      <td>38.937599</td>\n",
       "      <td>-77.092796</td>\n",
       "      <td>Eastern Standard Time (EST)</td>\n",
       "      <td>2012-04-12 07:04:00</td>\n",
       "      <td>2012-04-12 07:04:03</td>\n",
       "    </tr>\n",
       "  </tbody>\n",
       "</table>\n",
       "</div>"
      ],
      "text/plain": [
       "   web_browser operating_sys               User_URL            URL_Request  \\\n",
       "0      Mozilla       Windows       www.facebook.com   www.ncbi.nlm.nih.gov   \n",
       "1   GoogleMaps   RochesterNY       www.AwareMap.com   www.monroecounty.gov   \n",
       "2      Mozilla       Windows                   t.co       boxer.senate.gov   \n",
       "3      Mozilla     Macintosh             Direct URL          apod.nasa.gov   \n",
       "4      Mozilla       Windows  www.shrewsbury-ma.gov  www.shrewsbury-ma.gov   \n",
       "5      Mozilla       Windows  www.shrewsbury-ma.gov  www.shrewsbury-ma.gov   \n",
       "6      Mozilla       Windows    plus.url.google.com           www.nasa.gov   \n",
       "10     Mozilla       Windows             Direct URL         www.nysdot.gov   \n",
       "11     Mozilla     Macintosh                   t.co    oversight.house.gov   \n",
       "\n",
       "          City  longitude    latitude                              Time_Zone  \\\n",
       "0      Danvers  42.576698  -70.954903            Eastern Standard Time (EST)   \n",
       "1        Provo  40.218102 -111.613297            Eastern Standard Time (EST)   \n",
       "2   Washington  38.900700  -77.043098            Eastern Standard Time (EST)   \n",
       "3         Braz -23.549999  -46.616699            Eastern Standard Time (EST)   \n",
       "4   Shrewsbury  42.286499  -71.714699            Eastern Standard Time (EST)   \n",
       "5   Shrewsbury  42.286499  -71.714699            Eastern Standard Time (EST)   \n",
       "6        Luban  51.116699   15.283300  Currently Central European Time (CET)   \n",
       "10     Seattle  47.595100 -122.332603            Eastern Standard Time (EST)   \n",
       "11  Washington  38.937599  -77.092796            Eastern Standard Time (EST)   \n",
       "\n",
       "               Time_in             Time_out  \n",
       "0  2012-04-01 21:03:50  2012-04-01 21:03:57  \n",
       "1  2012-03-16 19:40:49  2011-06-17 00:13:13  \n",
       "2  2012-04-03 00:50:30  2012-04-03 00:50:35  \n",
       "3  2012-04-04 04:37:10  2012-04-04 04:37:24  \n",
       "4  2012-04-05 08:23:50  2012-04-05 08:23:59  \n",
       "5  2012-04-06 12:10:30  2012-04-06 12:10:48  \n",
       "6  2012-04-07 15:57:10  2012-04-07 15:57:20  \n",
       "10 2012-04-11 03:17:10  2012-04-11 03:17:20  \n",
       "11 2012-04-12 07:04:00  2012-04-12 07:04:03  "
      ]
     },
     "execution_count": 39,
     "metadata": {},
     "output_type": "execute_result"
    }
   ],
   "source": [
    "users_df"
   ]
  },
  {
   "cell_type": "markdown",
   "id": "trying-strap",
   "metadata": {},
   "source": [
    "## Turn data frame to csv file"
   ]
  },
  {
   "cell_type": "code",
   "execution_count": 40,
   "id": "breathing-raising",
   "metadata": {
    "ExecuteTime": {
     "end_time": "2023-03-09T14:42:48.047045Z",
     "start_time": "2023-03-09T14:42:47.854047Z"
    }
   },
   "outputs": [],
   "source": [
    "users_df.to_csv('users_info.csv')"
   ]
  }
 ],
 "metadata": {
  "kernelspec": {
   "display_name": "Python 3",
   "language": "python",
   "name": "python3"
  },
  "language_info": {
   "codemirror_mode": {
    "name": "ipython",
    "version": 3
   },
   "file_extension": ".py",
   "mimetype": "text/x-python",
   "name": "python",
   "nbconvert_exporter": "python",
   "pygments_lexer": "ipython3",
   "version": "3.8.5"
  },
  "toc": {
   "base_numbering": 1,
   "nav_menu": {},
   "number_sections": true,
   "sideBar": true,
   "skip_h1_title": false,
   "title_cell": "Table of Contents",
   "title_sidebar": "Contents",
   "toc_cell": false,
   "toc_position": {},
   "toc_section_display": true,
   "toc_window_display": false
  }
 },
 "nbformat": 4,
 "nbformat_minor": 5
}
